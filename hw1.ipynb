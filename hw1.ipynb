{
 "cells": [
  {
   "cell_type": "markdown",
   "metadata": {
    "collapsed": true
   },
   "source": [
    "## Homework 1 \n",
    "\n",
    "For all questions reply directly in the notebook. You should use markdown for answers in Questions 1 and 2. You are required to write code for question 3. Submit a copy of your Notebook with your answers via Canvas.\n",
    "\n",
    "**Homework is due: Oct 2nd by 2:30 p.m. (beginning of class)**"
   ]
  },
  {
   "cell_type": "markdown",
   "metadata": {},
   "source": [
    "### Question 1: Fundamentals [10 points]\n",
    "\n",
    "Consider the Bayesian network in Figure 1.\n",
    "![alt text](figs/fig1.pdf \"BayesNet\")\n",
    "Determine where the following claims are True or False, and justify your answer:\n",
    "* $X_1~\\bot~X_8~|~X_3$\n",
    "* $X_4~\\bot~X_7~|~X_9$\n",
    "* $X_1~\\bot~X_8~|~X_9$\n",
    "* $X_2~\\bot~X_7~|~X_4,~X_6$\n",
    "* $X_2~\\bot~X_9~|~X_4,~X_6$"
   ]
  },
  {
   "cell_type": "markdown",
   "metadata": {},
   "source": [
    "# Add your answers for Question 1 here.\n",
    "\n",
    "1. True, X9 not observed\n",
    "2. False, information flows from X4 to X7 through X6, which is unobserved\n",
    "3. False, given X9, the two are coupled\n",
    "4. False, There is a direct edge between X2 and X7, and therefore cannot be independent\n",
    "5. False, information flows through X7, which is unobserved"
   ]
  },
  {
   "cell_type": "markdown",
   "metadata": {},
   "source": [
    "### Question 2: Hidden VE [10 points]\n",
    "\n",
    "For a Hidden Markov Model with $T$ time steps, whose hidden states are denoted as $S$ and observable states are denoted as $Y$, use the Variable Elimination algorithm to derive HMM's forward-backward algorithm to answer inf\n",
    "erence queries such as: $P(S_t = j|Y_{1,\\dots,T})$.\n",
    "\n",
    "You can start with:\n",
    "<center>$P(S_t = j|Y_{1,\\dots,T}) \\propto \\alpha_t(j)\\cdot\\beta_t(j),$ \n",
    "\n",
    "where $\\alpha_t(j) = P(S_t = j,Y_{1,\\dots,t})$ and $\\beta_{t}(j) = P(Y_{t+1,\\dots,T}|S_{t} = j)$"
   ]
  },
  {
   "cell_type": "markdown",
   "metadata": {},
   "source": [
    "Add your answer for Question 2 here. You can use markdown for math expressions.\n",
    "\n",
    "Forward pass:\n",
    "1. $P(S_t=j, Y_{1,...,t}) = \\sum_{S_{t-1}}P(S_t=j, S_{t-1}, Y_{1,...,t})$  \n",
    "2. $P(S_t=j, Y_{1,...,t}) = P(Y_{t}|S_t=j)\\sum_{i \\in S_{t-1}}P(S_t=j | S_{t-1} = i, Y_{1,...,t-1})P(S_{t-1}=i, Y_{1,...,t-1})$ per HMM structure\n",
    "2. $\\alpha_{t-1}(i) = P(S_{t-1}=i, Y_{1,...,t-1})$\n",
    "2. $\\alpha_{t}(j) = P(Y_{t}|S_t=j)\\sum_{i \\in S_{t-1}}\\alpha_{t-1}(i)P(S_t=j | S_{t-1} = i, Y_{1,...,t-1})$  which is our forward pass\n",
    "\n",
    "Backward pass:\n",
    "1. $P(Y_{t+1,...,T}|S_t=j) = \\sum_{i \\in S_{t+1}}P(Y_{t+1},...,Y_T, S_{t+1}=i|S_t=j)$\n",
    "2. $P(Y_{t+1,...,T}|S_t=j) = \\sum_{i \\in S_{t+1}}P(Y_{t+1},...,Y_T | S_{t+1}=i)P(S_{t+1}=i|S_t=j)$ per HMM structure\n",
    "3. $P(Y_{t+1,...,T}|S_t=j) = \\sum_{i \\in S_{t+1}}P(Y_{t+2},...,Y_T | S_{t+1}=i)P(Y_{t+1}|S_{t+1}=i)P(S_{t+1}=i|S_t=j)$ per HMM structure\n",
    "4. $B_{t+1}(i)=P(y_{t+2,...,T}|S_{t+1}=i)$\n",
    "5. $B_{t}(j) = \\sum_{i \\in S_{t+1}}B_{t+1}(i)P(Y_{t+1}|S_{t+1}=i)P(S_{t+1}=i|S_t=j)$ which is our backwards pass\n"
   ]
  },
  {
   "cell_type": "markdown",
   "metadata": {},
   "source": [
    "### Question 3 (Coding): HMM weather [10 points]\n",
    "You will now implement everything from Question 2. Consider that an HMM is characterized by the following:\n",
    "\n",
    "* The set of $T$ hidden states $S$ (e.g., loaded die or fair die) $S = \\{S_1, S_2, \\dots, S_T\\}$. Each state takes values from a finite set $Dom(S) = \\{d_1, d_2, \\dots, d_N\\}$.\n",
    "\n",
    "* The set of $T$ observed states $Y = \\{Y_1, Y_2, \\dots, Y_T\\}$. Each observed state takes values from a finite set $Dom(Y) = \\{v_1, v_2, \\dots v_M\\}$ (e.g., 1,2,3,4,5,6 in our dice examples).\n",
    "\n",
    "* The transition matrix $A = \\{a_{i,j}, 1\\leq i, j \\leq N\\}$ which represents the probability of moving from $S_{t-1} = i$ to $S_{t} = j$ such that $a_{i,j} = P(S_t =j | S_{t-1} = i)$, with $a_{i,j} \\geq 0$ and where $s_t$ is the state at time point $t$. We have that $A$ is a $N \\times N$ matrix.\n",
    "\n",
    "* The emission matrix $B = \\{b_{j}(k)\\}$ representing the probability of emission of symbol $k \\in Y$ when system state is $S_t = j$ such that: $b_{j}(k) = P(Y_t=k | S_t = j)$. The matrix $B$ is an $N \\times M$ matrix.\n",
    "\n",
    "* The initial state probability distribution $\\pi = \\{\\pi_i\\}$ indicating a prior probability over the value for state variable $S_1$. Distribution $\\pi$ is defined over $\\{d_1, d_2, \\dots, d_N\\}$ and associated a prior to each symbol. This is a lenth $N$ vector.\n",
    "\n",
    "For this homework we assume that all domains are discrete and all parameters described above can be represented as matrices."
   ]
  },
  {
   "cell_type": "markdown",
   "metadata": {},
   "source": [
    "You are given the following HMM specification that describes the most secure communication channel known to mankind."
   ]
  },
  {
   "cell_type": "code",
   "execution_count": 4,
   "metadata": {},
   "outputs": [],
   "source": [
    "import numpy as np\n",
    "states = ('Rain', 'Sun', 'Snow', 'Wind') # Domain(S)\n",
    "observations = ('dance','run', 'walk','fly') # Domain(Y)\n",
    "pi = np.array([0.4,0.2,0.25,0.15])  #initial probability \n",
    "A = np.array([[0.2,0.4,0.2,0.2],\n",
    "              [0.2,0.3,0.1,0.4],\n",
    "              [0.1,0.3,0.3,0.1],\n",
    "              [0.3,0.2,0.2,0.3]]) #Transmission probability \n",
    "B = np.array([[0.4, 0.2, 0.3, 0.1],\n",
    "              [0.1, 0.4, 0.25, 0.25],\n",
    "              [0.2, 0.3, 0.4, 0.1],\n",
    "              [0.2, 0.3, 0.1, 0.4]]) #Emission probability"
   ]
  },
  {
   "cell_type": "markdown",
   "metadata": {},
   "source": [
    "We want to run inference queries over this HMM. To do this you need to implement your favorite message passing algorithm: Forward-Backward! **You only need to fill out the missing lines**. Please do not change any the names or outputs of the given functions."
   ]
  },
  {
   "cell_type": "code",
   "execution_count": 36,
   "metadata": {},
   "outputs": [],
   "source": [
    "def forward(obs_seq):\n",
    "    T = len(obs_seq)\n",
    "    N = A.shape[0]\n",
    "    alpha = np.zeros((T, N))\n",
    "    # Your code goes\n",
    "    # Base case\n",
    "    if len(obs_seq) == 1:\n",
    "        obs_ind = obs_seq[0] #observations.index(obs_seq[0])\n",
    "        for state_ind, state in enumerate(states):\n",
    "            alpha[0][state_ind] = B[state_ind][obs_ind]*pi[state_ind]\n",
    "    else:\n",
    "        prev_alpha = forward(obs_seq[:-1])\n",
    "        shape = prev_alpha.shape\n",
    "        alpha[:shape[0], :N] = prev_alpha\n",
    "        obs_ind = obs_seq[-1] #observations.index(obs_seq[-1])\n",
    "        for state_ind, state in enumerate(states):\n",
    "            total = 0\n",
    "            for prev_state_ind, prev_state in enumerate(states):\n",
    "                total += alpha[T-2][prev_state_ind] * A[prev_state_ind][state_ind]\n",
    "            alpha[T-1][state_ind] = B[state_ind][obs_ind] * total\n",
    "    return alpha\n",
    "\n",
    "def likelihood(obs_seq):\n",
    "    # returns P(observations|model)\n",
    "    alpha = forward(obs_seq)\n",
    "    return  alpha[len(obs_seq)-1].sum()#Your code goes here \n",
    "\n",
    "def backward(obs_seq):\n",
    "    N = A.shape[0]\n",
    "    T = len(obs_seq)\n",
    "    beta = np.zeros((N,T))\n",
    "    if len(obs_seq) == 2:\n",
    "        obs_ind = obs_seq[1] #observations.index(obs_seq[0])\n",
    "        for state_ind, state in enumerate(states):\n",
    "            total = 0\n",
    "            for next_state_ind, next_state in enumerate(states):\n",
    "                total += B[next_state_ind][obs_ind] * A[state_ind][next_state_ind]\n",
    "                beta[next_state_ind][1] = 1\n",
    "            beta[state_ind][0] = total\n",
    "    else:\n",
    "        prev_beta = np.transpose(backward(obs_seq[1:]))\n",
    "        shape = prev_beta.shape\n",
    "        beta[:N, 1:] = prev_beta\n",
    "        obs_ind = obs_seq[1] #observations.index(obs_seq[0])\n",
    "        for state_ind, state in enumerate(states):\n",
    "            total = 0\n",
    "            for next_state_ind, state in enumerate(states):\n",
    "                total += beta[next_state_ind][1] * B[next_state_ind][obs_ind] * A[state_ind][next_state_ind]\n",
    "            beta[state_ind][0] = total\n",
    "    return np.transpose(beta)\n",
    "\n",
    "def posterior(obs_seq):\n",
    "    alpha = forward(obs_seq)\n",
    "    beta  = backward(obs_seq)\n",
    "    obs_prob = likelihood(obs_seq)\n",
    "    post_prob = ((alpha*beta) / obs_prob)\n",
    "    return post_prob\n",
    "\n",
    "def map_states(obs_seq):\n",
    "    post_prob = posterior(obs_seq)\n",
    "    return list(np.argmax(post_prob, axis=1))"
   ]
  },
  {
   "cell_type": "markdown",
   "metadata": {},
   "source": [
    "Suppose Bob and Alice use the above secure channel. Bob \"says dance, walk, dance, run, fly, fly, fly\". What does Alice hear?"
   ]
  },
  {
   "cell_type": "code",
   "execution_count": 37,
   "metadata": {},
   "outputs": [
    {
     "name": "stdout",
     "output_type": "stream",
     "text": [
      "Bob says: ['dance', 'run', 'dance', 'walk', 'fly', 'fly', 'dance', 'walk', 'run', 'fly']\n",
      "Alice hears: ['Rain', 'Sun', 'Rain', 'Sun', 'Sun', 'Wind', 'Rain', 'Sun', 'Sun', 'Wind']\n"
     ]
    }
   ],
   "source": [
    "bob_says = np.array([0, 1, 0, 2, 3, 3, 0, 2, 1, 3])\n",
    "print(\"Bob says:\",list(map(lambda y: observations[y], bob_says)))\n",
    "alice_hears=map_states(bob_says)\n",
    "print(\"Alice hears:\",list(map(lambda y: states[y], alice_hears)))"
   ]
  },
  {
   "cell_type": "markdown",
   "metadata": {},
   "source": [
    "You should get:\n",
    "('Alice hears:', ['Rain', 'Sun', 'Rain', 'Sun', 'Sun', 'Wind', 'Rain', 'Sun', 'Sun', 'Wind'])"
   ]
  },
  {
   "cell_type": "markdown",
   "metadata": {},
   "source": [
    "### Bonus Question\n",
    "Prove completeness of the D-separation property"
   ]
  },
  {
   "cell_type": "markdown",
   "metadata": {},
   "source": [
    "Add your answer for Question 1 here."
   ]
  }
 ],
 "metadata": {
  "kernelspec": {
   "display_name": "Python 3",
   "language": "python",
   "name": "python3"
  },
  "language_info": {
   "codemirror_mode": {
    "name": "ipython",
    "version": 3
   },
   "file_extension": ".py",
   "mimetype": "text/x-python",
   "name": "python",
   "nbconvert_exporter": "python",
   "pygments_lexer": "ipython3",
   "version": "3.6.5"
  }
 },
 "nbformat": 4,
 "nbformat_minor": 2
}
